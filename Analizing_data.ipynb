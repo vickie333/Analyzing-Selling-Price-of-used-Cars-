{
 "cells": [
  {
   "cell_type": "markdown",
   "id": "0ad3843d-ff77-4bb4-b0d5-394fcc64ba1b",
   "metadata": {},
   "source": [
    "# Exploratory Data Analysis: Automobile Dataset\n",
    "\n",
    "This notebook analyzes a dataset of automobile specifications. The dataset contains various attributes of used cars, including price, brand, color, horsepower and more. The goal is to analyze these factors and determine their impact on selling price. Visualizations and statistical summaries are provided to extract insights.\n",
    "\n",
    "**Dataset**: `imports-85.data`  \n",
    "**Tools**: Python (Pandas, Seaborn, Matplotlib, SciPy)  \n",
    "**Author**: Maria Victoria Pérez Contrera  \n"
   ]
  },
  {
   "cell_type": "code",
   "execution_count": 1,
   "id": "a9a36c1f-9161-4cb0-8d52-2074c1a5c168",
   "metadata": {},
   "outputs": [],
   "source": [
    "import pandas as pd\n",
    "import seaborn as sns\n",
    "import numpy as np\n",
    "import scipy as sp\n",
    "import matplotlib.pyplot as plt\n",
    "%matplotlib inline"
   ]
  },
  {
   "cell_type": "markdown",
   "id": "45ffd85e-254d-4df6-aafd-653a28258f84",
   "metadata": {},
   "source": [
    "## LOADING THE DATA"
   ]
  },
  {
   "cell_type": "code",
   "execution_count": 2,
   "id": "8129e477-5f3e-45ca-8902-ba901e8fe79c",
   "metadata": {},
   "outputs": [],
   "source": [
    "data=pd.read_csv('imports-85.data')"
   ]
  },
  {
   "cell_type": "code",
   "execution_count": 3,
   "id": "aff0ab8d-9703-4d4b-b4ea-41e0cc1a7e17",
   "metadata": {},
   "outputs": [
    {
     "data": {
      "text/html": [
       "<div>\n",
       "<style scoped>\n",
       "    .dataframe tbody tr th:only-of-type {\n",
       "        vertical-align: middle;\n",
       "    }\n",
       "\n",
       "    .dataframe tbody tr th {\n",
       "        vertical-align: top;\n",
       "    }\n",
       "\n",
       "    .dataframe thead th {\n",
       "        text-align: right;\n",
       "    }\n",
       "</style>\n",
       "<table border=\"1\" class=\"dataframe\">\n",
       "  <thead>\n",
       "    <tr style=\"text-align: right;\">\n",
       "      <th></th>\n",
       "      <th>3</th>\n",
       "      <th>?</th>\n",
       "      <th>alfa-romero</th>\n",
       "      <th>gas</th>\n",
       "      <th>std</th>\n",
       "      <th>two</th>\n",
       "      <th>convertible</th>\n",
       "      <th>rwd</th>\n",
       "      <th>front</th>\n",
       "      <th>88.60</th>\n",
       "      <th>...</th>\n",
       "      <th>130</th>\n",
       "      <th>mpfi</th>\n",
       "      <th>3.47</th>\n",
       "      <th>2.68</th>\n",
       "      <th>9.00</th>\n",
       "      <th>111</th>\n",
       "      <th>5000</th>\n",
       "      <th>21</th>\n",
       "      <th>27</th>\n",
       "      <th>13495</th>\n",
       "    </tr>\n",
       "  </thead>\n",
       "  <tbody>\n",
       "    <tr>\n",
       "      <th>0</th>\n",
       "      <td>3</td>\n",
       "      <td>?</td>\n",
       "      <td>alfa-romero</td>\n",
       "      <td>gas</td>\n",
       "      <td>std</td>\n",
       "      <td>two</td>\n",
       "      <td>convertible</td>\n",
       "      <td>rwd</td>\n",
       "      <td>front</td>\n",
       "      <td>88.6</td>\n",
       "      <td>...</td>\n",
       "      <td>130</td>\n",
       "      <td>mpfi</td>\n",
       "      <td>3.47</td>\n",
       "      <td>2.68</td>\n",
       "      <td>9.0</td>\n",
       "      <td>111</td>\n",
       "      <td>5000</td>\n",
       "      <td>21</td>\n",
       "      <td>27</td>\n",
       "      <td>16500</td>\n",
       "    </tr>\n",
       "    <tr>\n",
       "      <th>1</th>\n",
       "      <td>1</td>\n",
       "      <td>?</td>\n",
       "      <td>alfa-romero</td>\n",
       "      <td>gas</td>\n",
       "      <td>std</td>\n",
       "      <td>two</td>\n",
       "      <td>hatchback</td>\n",
       "      <td>rwd</td>\n",
       "      <td>front</td>\n",
       "      <td>94.5</td>\n",
       "      <td>...</td>\n",
       "      <td>152</td>\n",
       "      <td>mpfi</td>\n",
       "      <td>2.68</td>\n",
       "      <td>3.47</td>\n",
       "      <td>9.0</td>\n",
       "      <td>154</td>\n",
       "      <td>5000</td>\n",
       "      <td>19</td>\n",
       "      <td>26</td>\n",
       "      <td>16500</td>\n",
       "    </tr>\n",
       "    <tr>\n",
       "      <th>2</th>\n",
       "      <td>2</td>\n",
       "      <td>164</td>\n",
       "      <td>audi</td>\n",
       "      <td>gas</td>\n",
       "      <td>std</td>\n",
       "      <td>four</td>\n",
       "      <td>sedan</td>\n",
       "      <td>fwd</td>\n",
       "      <td>front</td>\n",
       "      <td>99.8</td>\n",
       "      <td>...</td>\n",
       "      <td>109</td>\n",
       "      <td>mpfi</td>\n",
       "      <td>3.19</td>\n",
       "      <td>3.40</td>\n",
       "      <td>10.0</td>\n",
       "      <td>102</td>\n",
       "      <td>5500</td>\n",
       "      <td>24</td>\n",
       "      <td>30</td>\n",
       "      <td>13950</td>\n",
       "    </tr>\n",
       "    <tr>\n",
       "      <th>3</th>\n",
       "      <td>2</td>\n",
       "      <td>164</td>\n",
       "      <td>audi</td>\n",
       "      <td>gas</td>\n",
       "      <td>std</td>\n",
       "      <td>four</td>\n",
       "      <td>sedan</td>\n",
       "      <td>4wd</td>\n",
       "      <td>front</td>\n",
       "      <td>99.4</td>\n",
       "      <td>...</td>\n",
       "      <td>136</td>\n",
       "      <td>mpfi</td>\n",
       "      <td>3.19</td>\n",
       "      <td>3.40</td>\n",
       "      <td>8.0</td>\n",
       "      <td>115</td>\n",
       "      <td>5500</td>\n",
       "      <td>18</td>\n",
       "      <td>22</td>\n",
       "      <td>17450</td>\n",
       "    </tr>\n",
       "    <tr>\n",
       "      <th>4</th>\n",
       "      <td>2</td>\n",
       "      <td>?</td>\n",
       "      <td>audi</td>\n",
       "      <td>gas</td>\n",
       "      <td>std</td>\n",
       "      <td>two</td>\n",
       "      <td>sedan</td>\n",
       "      <td>fwd</td>\n",
       "      <td>front</td>\n",
       "      <td>99.8</td>\n",
       "      <td>...</td>\n",
       "      <td>136</td>\n",
       "      <td>mpfi</td>\n",
       "      <td>3.19</td>\n",
       "      <td>3.40</td>\n",
       "      <td>8.5</td>\n",
       "      <td>110</td>\n",
       "      <td>5500</td>\n",
       "      <td>19</td>\n",
       "      <td>25</td>\n",
       "      <td>15250</td>\n",
       "    </tr>\n",
       "  </tbody>\n",
       "</table>\n",
       "<p>5 rows × 26 columns</p>\n",
       "</div>"
      ],
      "text/plain": [
       "   3    ?  alfa-romero  gas  std   two  convertible  rwd  front  88.60  ...  \\\n",
       "0  3    ?  alfa-romero  gas  std   two  convertible  rwd  front   88.6  ...   \n",
       "1  1    ?  alfa-romero  gas  std   two    hatchback  rwd  front   94.5  ...   \n",
       "2  2  164         audi  gas  std  four        sedan  fwd  front   99.8  ...   \n",
       "3  2  164         audi  gas  std  four        sedan  4wd  front   99.4  ...   \n",
       "4  2    ?         audi  gas  std   two        sedan  fwd  front   99.8  ...   \n",
       "\n",
       "   130  mpfi  3.47  2.68  9.00  111  5000  21  27  13495  \n",
       "0  130  mpfi  3.47  2.68   9.0  111  5000  21  27  16500  \n",
       "1  152  mpfi  2.68  3.47   9.0  154  5000  19  26  16500  \n",
       "2  109  mpfi  3.19  3.40  10.0  102  5500  24  30  13950  \n",
       "3  136  mpfi  3.19  3.40   8.0  115  5500  18  22  17450  \n",
       "4  136  mpfi  3.19  3.40   8.5  110  5500  19  25  15250  \n",
       "\n",
       "[5 rows x 26 columns]"
      ]
     },
     "execution_count": 3,
     "metadata": {},
     "output_type": "execute_result"
    }
   ],
   "source": [
    "data.head()"
   ]
  },
  {
   "cell_type": "markdown",
   "id": "a73abc5f-37ed-47cd-b6d1-f21748f6de87",
   "metadata": {},
   "source": [
    "## ASSING COLUMNS HEADERS"
   ]
  },
  {
   "cell_type": "code",
   "execution_count": 4,
   "id": "e221007a-d704-41fd-bdff-50b964155e91",
   "metadata": {},
   "outputs": [],
   "source": [
    "headers = [\"symboling\", \"normalized-losses\", \"make\", \n",
    "           \"fuel-type\", \"aspiration\",\"num-of-doors\",\n",
    "           \"body-style\",\"drive-wheels\", \"engine-location\",\n",
    "           \"wheel-base\",\"length\", \"width\",\"height\", \"curb-weight\",\n",
    "           \"engine-type\",\"num-of-cylinders\", \"engine-size\", \n",
    "           \"fuel-system\",\"bore\",\"stroke\", \"compression-ratio\",\n",
    "           \"horsepower\", \"peak-rpm\",\"city-mpg\",\"highway-mpg\",\"price\"]"
   ]
  },
  {
   "cell_type": "code",
   "execution_count": 5,
   "id": "f3f03304-e4a7-4f99-9e8e-71cb27596023",
   "metadata": {},
   "outputs": [],
   "source": [
    "data.columns=headers"
   ]
  },
  {
   "cell_type": "code",
   "execution_count": 6,
   "id": "a81ab562-ec6e-4c6f-9a50-d7256590f78e",
   "metadata": {},
   "outputs": [
    {
     "data": {
      "text/plain": [
       "Index(['symboling', 'normalized-losses', 'make', 'fuel-type', 'aspiration',\n",
       "       'num-of-doors', 'body-style', 'drive-wheels', 'engine-location',\n",
       "       'wheel-base', 'length', 'width', 'height', 'curb-weight', 'engine-type',\n",
       "       'num-of-cylinders', 'engine-size', 'fuel-system', 'bore', 'stroke',\n",
       "       'compression-ratio', 'horsepower', 'peak-rpm', 'city-mpg',\n",
       "       'highway-mpg', 'price'],\n",
       "      dtype='object')"
      ]
     },
     "execution_count": 6,
     "metadata": {},
     "output_type": "execute_result"
    }
   ],
   "source": [
    "data.columns"
   ]
  },
  {
   "cell_type": "markdown",
   "id": "26e163c8-92b6-46ac-9085-dc85a17a108d",
   "metadata": {},
   "source": [
    "## Check for Missing Values"
   ]
  },
  {
   "cell_type": "code",
   "execution_count": 7,
   "id": "919e23d1-85ae-4565-958c-81a4c581ec35",
   "metadata": {},
   "outputs": [
    {
     "data": {
      "text/plain": [
       "symboling            False\n",
       "normalized-losses    False\n",
       "make                 False\n",
       "fuel-type            False\n",
       "aspiration           False\n",
       "num-of-doors         False\n",
       "body-style           False\n",
       "drive-wheels         False\n",
       "engine-location      False\n",
       "wheel-base           False\n",
       "length               False\n",
       "width                False\n",
       "height               False\n",
       "curb-weight          False\n",
       "engine-type          False\n",
       "num-of-cylinders     False\n",
       "engine-size          False\n",
       "fuel-system          False\n",
       "bore                 False\n",
       "stroke               False\n",
       "compression-ratio    False\n",
       "horsepower           False\n",
       "peak-rpm             False\n",
       "city-mpg             False\n",
       "highway-mpg          False\n",
       "price                False\n",
       "dtype: bool"
      ]
     },
     "execution_count": 7,
     "metadata": {},
     "output_type": "execute_result"
    }
   ],
   "source": [
    "data.isna().any()"
   ]
  },
  {
   "cell_type": "markdown",
   "id": "50ab8cd5-4b0b-4251-a1a8-9e0955b4ee49",
   "metadata": {},
   "source": [
    "## Convert miles per gallon(MPG) to liters per 100 kilometers(L/100km)"
   ]
  },
  {
   "cell_type": "code",
   "execution_count": 8,
   "id": "b4fa08a9-bdb2-4258-b51c-8500e2e22cf4",
   "metadata": {},
   "outputs": [],
   "source": [
    "data['city-mpg']=282.48/data['city-mpg']\n",
    "data['highway-mpg']=282.48/data['highway-mpg']"
   ]
  },
  {
   "cell_type": "code",
   "execution_count": 9,
   "id": "a93f8ed4-1a2e-46e9-81a9-e14fbee2e892",
   "metadata": {},
   "outputs": [],
   "source": [
    "data.rename(columns={'city-mpg':'city-L/100km','highway-mpg':'highway-L/100km'},inplace=True)"
   ]
  },
  {
   "cell_type": "code",
   "execution_count": 10,
   "id": "9c55358d-945f-4915-a1e1-bacc25862cd7",
   "metadata": {},
   "outputs": [
    {
     "data": {
      "text/plain": [
       "Index(['symboling', 'normalized-losses', 'make', 'fuel-type', 'aspiration',\n",
       "       'num-of-doors', 'body-style', 'drive-wheels', 'engine-location',\n",
       "       'wheel-base', 'length', 'width', 'height', 'curb-weight', 'engine-type',\n",
       "       'num-of-cylinders', 'engine-size', 'fuel-system', 'bore', 'stroke',\n",
       "       'compression-ratio', 'horsepower', 'peak-rpm', 'city-L/100km',\n",
       "       'highway-L/100km', 'price'],\n",
       "      dtype='object')"
      ]
     },
     "execution_count": 10,
     "metadata": {},
     "output_type": "execute_result"
    }
   ],
   "source": [
    "data.columns"
   ]
  },
  {
   "cell_type": "markdown",
   "id": "f3652c39-c867-4479-ab64-a8e773c5c97e",
   "metadata": {},
   "source": [
    "## Convert Price Column to Integer"
   ]
  },
  {
   "cell_type": "code",
   "execution_count": 11,
   "id": "97e1634e-3b5f-4d4b-90b2-aae816138dab",
   "metadata": {},
   "outputs": [
    {
     "data": {
      "text/plain": [
       "array(['16500', '13950', '17450', '15250', '17710', '18920', '23875', '?',\n",
       "       '16430', '16925', '20970', '21105', '24565', '30760', '41315',\n",
       "       '36880', '5151', '6295', '6575', '5572', '6377', '7957', '6229',\n",
       "       '6692', '7609', '8558', '8921', '12964', '6479', '6855', '5399',\n",
       "       '6529', '7129', '7295', '7895', '9095', '8845', '10295', '12945',\n",
       "       '10345', '6785', '11048', '32250', '35550', '36000', '5195',\n",
       "       '6095', '6795', '6695', '7395', '10945', '11845', '13645', '15645',\n",
       "       '8495', '10595', '10245', '10795', '11245', '18280', '18344',\n",
       "       '25552', '28248', '28176', '31600', '34184', '35056', '40960',\n",
       "       '45400', '16503', '5389', '6189', '6669', '7689', '9959', '8499',\n",
       "       '12629', '14869', '14489', '6989', '8189', '9279', '5499', '7099',\n",
       "       '6649', '6849', '7349', '7299', '7799', '7499', '7999', '8249',\n",
       "       '8949', '9549', '13499', '14399', '17199', '19699', '18399',\n",
       "       '11900', '13200', '12440', '13860', '15580', '16900', '16695',\n",
       "       '17075', '16630', '17950', '18150', '12764', '22018', '32528',\n",
       "       '34028', '37028', '9295', '9895', '11850', '12170', '15040',\n",
       "       '15510', '18620', '5118', '7053', '7603', '7126', '7775', '9960',\n",
       "       '9233', '11259', '7463', '10198', '8013', '11694', '5348', '6338',\n",
       "       '6488', '6918', '7898', '8778', '6938', '7198', '7788', '7738',\n",
       "       '8358', '9258', '8058', '8238', '9298', '9538', '8449', '9639',\n",
       "       '9989', '11199', '11549', '17669', '8948', '10698', '9988',\n",
       "       '10898', '11248', '16558', '15998', '15690', '15750', '7975',\n",
       "       '7995', '8195', '9495', '9995', '11595', '9980', '13295', '13845',\n",
       "       '12290', '12940', '13415', '15985', '16515', '18420', '18950',\n",
       "       '16845', '19045', '21485', '22470', '22625'], dtype=object)"
      ]
     },
     "execution_count": 11,
     "metadata": {},
     "output_type": "execute_result"
    }
   ],
   "source": [
    "data['price'].unique()"
   ]
  },
  {
   "cell_type": "code",
   "execution_count": 12,
   "id": "ce7cb413-906e-413d-95a9-1cf921684bb3",
   "metadata": {},
   "outputs": [],
   "source": [
    "data=data[data['price']!='?']"
   ]
  },
  {
   "cell_type": "code",
   "execution_count": 13,
   "id": "bd49b3c3-c0de-401c-a68e-14bba7c3d235",
   "metadata": {},
   "outputs": [],
   "source": [
    "data['price']=data['price'].astype(int)"
   ]
  },
  {
   "cell_type": "code",
   "execution_count": 14,
   "id": "acb64fc3-7a8a-4f07-84ba-68efb7259607",
   "metadata": {},
   "outputs": [
    {
     "data": {
      "text/plain": [
       "dtype('int64')"
      ]
     },
     "execution_count": 14,
     "metadata": {},
     "output_type": "execute_result"
    }
   ],
   "source": [
    "data['price'].dtypes"
   ]
  },
  {
   "cell_type": "markdown",
   "id": "9c5eb4df-f83c-42ba-adaa-ae4dffcc6f20",
   "metadata": {},
   "source": [
    "## Normalize Features"
   ]
  },
  {
   "cell_type": "code",
   "execution_count": 15,
   "id": "a6e6a43b-d390-4482-a1c1-f4e4ef2f5027",
   "metadata": {},
   "outputs": [],
   "source": [
    "data.loc[:,'length']=data.loc[:,'length']/data.loc[:,'length'].max()\n",
    "data.loc[:,'width']=data.loc[:,'width']/data.loc[:,'width'].max()\n",
    "data.loc[:,'height']=data.loc[:,'height']/data.loc[:,'height'].max()"
   ]
  },
  {
   "cell_type": "markdown",
   "id": "a94ca517-d2d9-4832-a994-91c3e60c0514",
   "metadata": {},
   "source": [
    "binning- grouping values"
   ]
  },
  {
   "cell_type": "code",
   "execution_count": 16,
   "id": "5a6763ab-290c-4d6c-b7e1-111747c5f248",
   "metadata": {},
   "outputs": [],
   "source": [
    "bins=np.linspace(min(data['price']),max(data['price']),4)"
   ]
  },
  {
   "cell_type": "code",
   "execution_count": 17,
   "id": "eb19867f-419d-4805-86bd-759fcc4c9565",
   "metadata": {},
   "outputs": [],
   "source": [
    "group_names=['Low','Medium','High']"
   ]
  },
  {
   "cell_type": "code",
   "execution_count": 18,
   "id": "5a87c9a2-406a-4ecc-9b1f-c94bc843eca7",
   "metadata": {},
   "outputs": [],
   "source": [
    "data['price_binned']=pd.cut(data['price'],bins,labels=group_names,include_lowest=True)"
   ]
  },
  {
   "cell_type": "code",
   "execution_count": 19,
   "id": "d713e41e-fe47-4b65-86b6-06ba21a5a33f",
   "metadata": {},
   "outputs": [
    {
     "data": {
      "text/plain": [
       "0    Low\n",
       "1    Low\n",
       "2    Low\n",
       "3    Low\n",
       "4    Low\n",
       "Name: price_binned, dtype: category\n",
       "Categories (3, object): ['Low' < 'Medium' < 'High']"
      ]
     },
     "execution_count": 19,
     "metadata": {},
     "output_type": "execute_result"
    }
   ],
   "source": [
    "data['price_binned'].head()"
   ]
  },
  {
   "cell_type": "code",
   "execution_count": 20,
   "id": "dcbafe05-4d0e-484d-ba77-ca087d43a955",
   "metadata": {},
   "outputs": [
    {
     "data": {
      "image/png": "[encoded data removed]",
      "text/plain": [
       "<Figure size 640x480 with 1 Axes>"
      ]
     },
     "metadata": {},
     "output_type": "display_data"
    }
   ],
   "source": [
    "plt.hist(data['price_binned']);"
   ]
  },
  {
   "cell_type": "markdown",
   "id": "7dcfa19b-877b-42cd-9c18-c7bbe827ec12",
   "metadata": {},
   "source": [
    "## Convert Categorical Data to Numerical"
   ]
  },
  {
   "cell_type": "code",
   "execution_count": 21,
   "id": "f01907aa-6223-480a-897d-1667a6a576d0",
   "metadata": {},
   "outputs": [
    {
     "data": {
      "text/html": [
       "<div>\n",
       "<style scoped>\n",
       "    .dataframe tbody tr th:only-of-type {\n",
       "        vertical-align: middle;\n",
       "    }\n",
       "\n",
       "    .dataframe tbody tr th {\n",
       "        vertical-align: top;\n",
       "    }\n",
       "\n",
       "    .dataframe thead th {\n",
       "        text-align: right;\n",
       "    }\n",
       "</style>\n",
       "<table border=\"1\" class=\"dataframe\">\n",
       "  <thead>\n",
       "    <tr style=\"text-align: right;\">\n",
       "      <th></th>\n",
       "      <th>diesel</th>\n",
       "      <th>gas</th>\n",
       "    </tr>\n",
       "  </thead>\n",
       "  <tbody>\n",
       "    <tr>\n",
       "      <th>0</th>\n",
       "      <td>False</td>\n",
       "      <td>True</td>\n",
       "    </tr>\n",
       "    <tr>\n",
       "      <th>1</th>\n",
       "      <td>False</td>\n",
       "      <td>True</td>\n",
       "    </tr>\n",
       "    <tr>\n",
       "      <th>2</th>\n",
       "      <td>False</td>\n",
       "      <td>True</td>\n",
       "    </tr>\n",
       "    <tr>\n",
       "      <th>3</th>\n",
       "      <td>False</td>\n",
       "      <td>True</td>\n",
       "    </tr>\n",
       "    <tr>\n",
       "      <th>4</th>\n",
       "      <td>False</td>\n",
       "      <td>True</td>\n",
       "    </tr>\n",
       "  </tbody>\n",
       "</table>\n",
       "</div>"
      ],
      "text/plain": [
       "   diesel   gas\n",
       "0   False  True\n",
       "1   False  True\n",
       "2   False  True\n",
       "3   False  True\n",
       "4   False  True"
      ]
     },
     "execution_count": 21,
     "metadata": {},
     "output_type": "execute_result"
    }
   ],
   "source": [
    "pd.get_dummies(data['fuel-type']).head()"
   ]
  },
  {
   "cell_type": "code",
   "execution_count": 22,
   "id": "6f82981c-63e0-4e63-bbdd-59a6dd96595c",
   "metadata": {},
   "outputs": [
    {
     "data": {
      "text/html": [
       "<div>\n",
       "<style scoped>\n",
       "    .dataframe tbody tr th:only-of-type {\n",
       "        vertical-align: middle;\n",
       "    }\n",
       "\n",
       "    .dataframe tbody tr th {\n",
       "        vertical-align: top;\n",
       "    }\n",
       "\n",
       "    .dataframe thead th {\n",
       "        text-align: right;\n",
       "    }\n",
       "</style>\n",
       "<table border=\"1\" class=\"dataframe\">\n",
       "  <thead>\n",
       "    <tr style=\"text-align: right;\">\n",
       "      <th></th>\n",
       "      <th>symboling</th>\n",
       "      <th>wheel-base</th>\n",
       "      <th>length</th>\n",
       "      <th>width</th>\n",
       "      <th>height</th>\n",
       "      <th>curb-weight</th>\n",
       "      <th>engine-size</th>\n",
       "      <th>compression-ratio</th>\n",
       "      <th>city-L/100km</th>\n",
       "      <th>highway-L/100km</th>\n",
       "      <th>price</th>\n",
       "    </tr>\n",
       "  </thead>\n",
       "  <tbody>\n",
       "    <tr>\n",
       "      <th>count</th>\n",
       "      <td>200.000000</td>\n",
       "      <td>200.000000</td>\n",
       "      <td>200.000000</td>\n",
       "      <td>200.000000</td>\n",
       "      <td>200.000000</td>\n",
       "      <td>200.000000</td>\n",
       "      <td>200.000000</td>\n",
       "      <td>200.000000</td>\n",
       "      <td>200.000000</td>\n",
       "      <td>200.000000</td>\n",
       "      <td>200.000000</td>\n",
       "    </tr>\n",
       "    <tr>\n",
       "      <th>mean</th>\n",
       "      <td>0.830000</td>\n",
       "      <td>98.848000</td>\n",
       "      <td>0.837232</td>\n",
       "      <td>0.915250</td>\n",
       "      <td>0.899523</td>\n",
       "      <td>2555.705000</td>\n",
       "      <td>126.860000</td>\n",
       "      <td>10.170100</td>\n",
       "      <td>11.945795</td>\n",
       "      <td>9.666421</td>\n",
       "      <td>13205.690000</td>\n",
       "    </tr>\n",
       "    <tr>\n",
       "      <th>std</th>\n",
       "      <td>1.248557</td>\n",
       "      <td>6.038261</td>\n",
       "      <td>0.059333</td>\n",
       "      <td>0.029207</td>\n",
       "      <td>0.040610</td>\n",
       "      <td>518.594552</td>\n",
       "      <td>41.650501</td>\n",
       "      <td>4.014163</td>\n",
       "      <td>3.052485</td>\n",
       "      <td>2.217485</td>\n",
       "      <td>7966.982558</td>\n",
       "    </tr>\n",
       "    <tr>\n",
       "      <th>min</th>\n",
       "      <td>-2.000000</td>\n",
       "      <td>86.600000</td>\n",
       "      <td>0.678039</td>\n",
       "      <td>0.837500</td>\n",
       "      <td>0.799331</td>\n",
       "      <td>1488.000000</td>\n",
       "      <td>61.000000</td>\n",
       "      <td>7.000000</td>\n",
       "      <td>5.764898</td>\n",
       "      <td>5.231111</td>\n",
       "      <td>5118.000000</td>\n",
       "    </tr>\n",
       "    <tr>\n",
       "      <th>25%</th>\n",
       "      <td>0.000000</td>\n",
       "      <td>94.500000</td>\n",
       "      <td>0.800937</td>\n",
       "      <td>0.891319</td>\n",
       "      <td>0.869565</td>\n",
       "      <td>2163.000000</td>\n",
       "      <td>97.750000</td>\n",
       "      <td>8.575000</td>\n",
       "      <td>9.416000</td>\n",
       "      <td>8.308235</td>\n",
       "      <td>7775.000000</td>\n",
       "    </tr>\n",
       "    <tr>\n",
       "      <th>50%</th>\n",
       "      <td>1.000000</td>\n",
       "      <td>97.000000</td>\n",
       "      <td>0.832292</td>\n",
       "      <td>0.909722</td>\n",
       "      <td>0.904682</td>\n",
       "      <td>2414.000000</td>\n",
       "      <td>119.500000</td>\n",
       "      <td>9.000000</td>\n",
       "      <td>11.770000</td>\n",
       "      <td>9.416000</td>\n",
       "      <td>10270.000000</td>\n",
       "    </tr>\n",
       "    <tr>\n",
       "      <th>75%</th>\n",
       "      <td>2.000000</td>\n",
       "      <td>102.400000</td>\n",
       "      <td>0.881788</td>\n",
       "      <td>0.926042</td>\n",
       "      <td>0.928512</td>\n",
       "      <td>2928.250000</td>\n",
       "      <td>142.000000</td>\n",
       "      <td>9.400000</td>\n",
       "      <td>14.867368</td>\n",
       "      <td>11.299200</td>\n",
       "      <td>16500.750000</td>\n",
       "    </tr>\n",
       "    <tr>\n",
       "      <th>max</th>\n",
       "      <td>3.000000</td>\n",
       "      <td>120.900000</td>\n",
       "      <td>1.000000</td>\n",
       "      <td>1.000000</td>\n",
       "      <td>1.000000</td>\n",
       "      <td>4066.000000</td>\n",
       "      <td>326.000000</td>\n",
       "      <td>23.000000</td>\n",
       "      <td>21.729231</td>\n",
       "      <td>17.655000</td>\n",
       "      <td>45400.000000</td>\n",
       "    </tr>\n",
       "  </tbody>\n",
       "</table>\n",
       "</div>"
      ],
      "text/plain": [
       "        symboling  wheel-base      length       width      height  \\\n",
       "count  200.000000  200.000000  200.000000  200.000000  200.000000   \n",
       "mean     0.830000   98.848000    0.837232    0.915250    0.899523   \n",
       "std      1.248557    6.038261    0.059333    0.029207    0.040610   \n",
       "min     -2.000000   86.600000    0.678039    0.837500    0.799331   \n",
       "25%      0.000000   94.500000    0.800937    0.891319    0.869565   \n",
       "50%      1.000000   97.000000    0.832292    0.909722    0.904682   \n",
       "75%      2.000000  102.400000    0.881788    0.926042    0.928512   \n",
       "max      3.000000  120.900000    1.000000    1.000000    1.000000   \n",
       "\n",
       "       curb-weight  engine-size  compression-ratio  city-L/100km  \\\n",
       "count   200.000000   200.000000         200.000000    200.000000   \n",
       "mean   2555.705000   126.860000          10.170100     11.945795   \n",
       "std     518.594552    41.650501           4.014163      3.052485   \n",
       "min    1488.000000    61.000000           7.000000      5.764898   \n",
       "25%    2163.000000    97.750000           8.575000      9.416000   \n",
       "50%    2414.000000   119.500000           9.000000     11.770000   \n",
       "75%    2928.250000   142.000000           9.400000     14.867368   \n",
       "max    4066.000000   326.000000          23.000000     21.729231   \n",
       "\n",
       "       highway-L/100km         price  \n",
       "count       200.000000    200.000000  \n",
       "mean          9.666421  13205.690000  \n",
       "std           2.217485   7966.982558  \n",
       "min           5.231111   5118.000000  \n",
       "25%           8.308235   7775.000000  \n",
       "50%           9.416000  10270.000000  \n",
       "75%          11.299200  16500.750000  \n",
       "max          17.655000  45400.000000  "
      ]
     },
     "execution_count": 22,
     "metadata": {},
     "output_type": "execute_result"
    }
   ],
   "source": [
    "data.describe()"
   ]
  },
  {
   "cell_type": "markdown",
   "id": "14288a0a-f4f8-489d-9e61-3edde63f69b6",
   "metadata": {},
   "source": [
    "## Data Visualization"
   ]
  },
  {
   "cell_type": "code",
   "execution_count": 23,
   "id": "45ea1af2-d07f-47a0-ae64-f1f781ef38cd",
   "metadata": {},
   "outputs": [
    {
     "data": {
      "image/png": "[encoded data removed]",
      "text/plain": [
       "<Figure size 640x480 with 1 Axes>"
      ]
     },
     "metadata": {},
     "output_type": "display_data"
    }
   ],
   "source": [
    "plt.boxplot(data['price'])\n",
    "\n",
    "sns.boxplot(x ='drive-wheels', y ='price', data = data)\n",
    "\n",
    "plt.scatter(data['engine-size'], data['price'])\n",
    "plt.title('Scatterplot of Enginesize vs Price')\n",
    "plt.xlabel('Engine size')\n",
    "plt.ylabel('Price')\n",
    "plt.grid()"
   ]
  },
  {
   "cell_type": "markdown",
   "id": "cb46efe6-d7a3-4465-b00d-6f4e0e17526e",
   "metadata": {},
   "source": [
    "## Grouping Data by Drive-Wheels and Body-Style"
   ]
  },
  {
   "cell_type": "code",
   "execution_count": 24,
   "id": "dc56358e-f72d-4f16-85de-bcb6a63ad5ef",
   "metadata": {},
   "outputs": [],
   "source": [
    "test=data[['drive-wheels','body-style','price']]"
   ]
  },
  {
   "cell_type": "code",
   "execution_count": 25,
   "id": "46b5efe4-1f3b-40d9-b2b8-279af3b96c2b",
   "metadata": {},
   "outputs": [],
   "source": [
    "data_grp=test.groupby(['drive-wheels','body-style'],as_index=False).mean()"
   ]
  },
  {
   "cell_type": "code",
   "execution_count": 26,
   "id": "b44466f4-ece4-485c-8195-00e9dfc0fcdc",
   "metadata": {},
   "outputs": [
    {
     "data": {
      "text/html": [
       "<div>\n",
       "<style scoped>\n",
       "    .dataframe tbody tr th:only-of-type {\n",
       "        vertical-align: middle;\n",
       "    }\n",
       "\n",
       "    .dataframe tbody tr th {\n",
       "        vertical-align: top;\n",
       "    }\n",
       "\n",
       "    .dataframe thead th {\n",
       "        text-align: right;\n",
       "    }\n",
       "</style>\n",
       "<table border=\"1\" class=\"dataframe\">\n",
       "  <thead>\n",
       "    <tr style=\"text-align: right;\">\n",
       "      <th></th>\n",
       "      <th>drive-wheels</th>\n",
       "      <th>body-style</th>\n",
       "      <th>price</th>\n",
       "    </tr>\n",
       "  </thead>\n",
       "  <tbody>\n",
       "    <tr>\n",
       "      <th>0</th>\n",
       "      <td>4wd</td>\n",
       "      <td>hatchback</td>\n",
       "      <td>7603.000000</td>\n",
       "    </tr>\n",
       "    <tr>\n",
       "      <th>1</th>\n",
       "      <td>4wd</td>\n",
       "      <td>sedan</td>\n",
       "      <td>12647.333333</td>\n",
       "    </tr>\n",
       "    <tr>\n",
       "      <th>2</th>\n",
       "      <td>4wd</td>\n",
       "      <td>wagon</td>\n",
       "      <td>9095.750000</td>\n",
       "    </tr>\n",
       "    <tr>\n",
       "      <th>3</th>\n",
       "      <td>fwd</td>\n",
       "      <td>convertible</td>\n",
       "      <td>11595.000000</td>\n",
       "    </tr>\n",
       "    <tr>\n",
       "      <th>4</th>\n",
       "      <td>fwd</td>\n",
       "      <td>hardtop</td>\n",
       "      <td>8249.000000</td>\n",
       "    </tr>\n",
       "    <tr>\n",
       "      <th>5</th>\n",
       "      <td>fwd</td>\n",
       "      <td>hatchback</td>\n",
       "      <td>8396.387755</td>\n",
       "    </tr>\n",
       "    <tr>\n",
       "      <th>6</th>\n",
       "      <td>fwd</td>\n",
       "      <td>sedan</td>\n",
       "      <td>9811.800000</td>\n",
       "    </tr>\n",
       "    <tr>\n",
       "      <th>7</th>\n",
       "      <td>fwd</td>\n",
       "      <td>wagon</td>\n",
       "      <td>9997.333333</td>\n",
       "    </tr>\n",
       "    <tr>\n",
       "      <th>8</th>\n",
       "      <td>rwd</td>\n",
       "      <td>convertible</td>\n",
       "      <td>26563.250000</td>\n",
       "    </tr>\n",
       "    <tr>\n",
       "      <th>9</th>\n",
       "      <td>rwd</td>\n",
       "      <td>hardtop</td>\n",
       "      <td>24202.714286</td>\n",
       "    </tr>\n",
       "    <tr>\n",
       "      <th>10</th>\n",
       "      <td>rwd</td>\n",
       "      <td>hatchback</td>\n",
       "      <td>14337.777778</td>\n",
       "    </tr>\n",
       "    <tr>\n",
       "      <th>11</th>\n",
       "      <td>rwd</td>\n",
       "      <td>sedan</td>\n",
       "      <td>21711.833333</td>\n",
       "    </tr>\n",
       "    <tr>\n",
       "      <th>12</th>\n",
       "      <td>rwd</td>\n",
       "      <td>wagon</td>\n",
       "      <td>16994.222222</td>\n",
       "    </tr>\n",
       "  </tbody>\n",
       "</table>\n",
       "</div>"
      ],
      "text/plain": [
       "   drive-wheels   body-style         price\n",
       "0           4wd    hatchback   7603.000000\n",
       "1           4wd        sedan  12647.333333\n",
       "2           4wd        wagon   9095.750000\n",
       "3           fwd  convertible  11595.000000\n",
       "4           fwd      hardtop   8249.000000\n",
       "5           fwd    hatchback   8396.387755\n",
       "6           fwd        sedan   9811.800000\n",
       "7           fwd        wagon   9997.333333\n",
       "8           rwd  convertible  26563.250000\n",
       "9           rwd      hardtop  24202.714286\n",
       "10          rwd    hatchback  14337.777778\n",
       "11          rwd        sedan  21711.833333\n",
       "12          rwd        wagon  16994.222222"
      ]
     },
     "execution_count": 26,
     "metadata": {},
     "output_type": "execute_result"
    }
   ],
   "source": [
    "data_grp"
   ]
  },
  {
   "cell_type": "markdown",
   "id": "d241b7c4-54c1-487f-aeb5-f9a4c2e9824a",
   "metadata": {},
   "source": [
    "## Create a Pivot Table & Heatmap"
   ]
  },
  {
   "cell_type": "code",
   "execution_count": 27,
   "id": "425ca549-f8d6-47e5-b1e7-6a674278910d",
   "metadata": {},
   "outputs": [],
   "source": [
    "data_pivot=data_grp.pivot(index='drive-wheels',columns='body-style',values='price')"
   ]
  },
  {
   "cell_type": "code",
   "execution_count": 28,
   "id": "b265203a-6d54-4dbb-9b12-097de9bc3f00",
   "metadata": {},
   "outputs": [
    {
     "data": {
      "text/html": [
       "<div>\n",
       "<style scoped>\n",
       "    .dataframe tbody tr th:only-of-type {\n",
       "        vertical-align: middle;\n",
       "    }\n",
       "\n",
       "    .dataframe tbody tr th {\n",
       "        vertical-align: top;\n",
       "    }\n",
       "\n",
       "    .dataframe thead th {\n",
       "        text-align: right;\n",
       "    }\n",
       "</style>\n",
       "<table border=\"1\" class=\"dataframe\">\n",
       "  <thead>\n",
       "    <tr style=\"text-align: right;\">\n",
       "      <th>body-style</th>\n",
       "      <th>convertible</th>\n",
       "      <th>hardtop</th>\n",
       "      <th>hatchback</th>\n",
       "      <th>sedan</th>\n",
       "      <th>wagon</th>\n",
       "    </tr>\n",
       "    <tr>\n",
       "      <th>drive-wheels</th>\n",
       "      <th></th>\n",
       "      <th></th>\n",
       "      <th></th>\n",
       "      <th></th>\n",
       "      <th></th>\n",
       "    </tr>\n",
       "  </thead>\n",
       "  <tbody>\n",
       "    <tr>\n",
       "      <th>4wd</th>\n",
       "      <td>NaN</td>\n",
       "      <td>NaN</td>\n",
       "      <td>7603.000000</td>\n",
       "      <td>12647.333333</td>\n",
       "      <td>9095.750000</td>\n",
       "    </tr>\n",
       "    <tr>\n",
       "      <th>fwd</th>\n",
       "      <td>11595.00</td>\n",
       "      <td>8249.000000</td>\n",
       "      <td>8396.387755</td>\n",
       "      <td>9811.800000</td>\n",
       "      <td>9997.333333</td>\n",
       "    </tr>\n",
       "    <tr>\n",
       "      <th>rwd</th>\n",
       "      <td>26563.25</td>\n",
       "      <td>24202.714286</td>\n",
       "      <td>14337.777778</td>\n",
       "      <td>21711.833333</td>\n",
       "      <td>16994.222222</td>\n",
       "    </tr>\n",
       "  </tbody>\n",
       "</table>\n",
       "</div>"
      ],
      "text/plain": [
       "body-style    convertible       hardtop     hatchback         sedan  \\\n",
       "drive-wheels                                                          \n",
       "4wd                   NaN           NaN   7603.000000  12647.333333   \n",
       "fwd              11595.00   8249.000000   8396.387755   9811.800000   \n",
       "rwd              26563.25  24202.714286  14337.777778  21711.833333   \n",
       "\n",
       "body-style           wagon  \n",
       "drive-wheels                \n",
       "4wd            9095.750000  \n",
       "fwd            9997.333333  \n",
       "rwd           16994.222222  "
      ]
     },
     "execution_count": 28,
     "metadata": {},
     "output_type": "execute_result"
    }
   ],
   "source": [
    "data_pivot"
   ]
  },
  {
   "cell_type": "code",
   "execution_count": 29,
   "id": "859f89c4-9944-4a41-9c6d-30daedc1f1f7",
   "metadata": {},
   "outputs": [
    {
     "data": {
      "image/png": "[encoded data removed]",
      "text/plain": [
       "<Figure size 640x480 with 2 Axes>"
      ]
     },
     "metadata": {},
     "output_type": "display_data"
    }
   ],
   "source": [
    "plt.pcolor(data_pivot, cmap ='RdBu')\n",
    "plt.colorbar();"
   ]
  },
  {
   "cell_type": "markdown",
   "id": "20499220-f5f9-44a5-849c-e12190efc35f",
   "metadata": {},
   "source": [
    "## Perform ANOVA Test"
   ]
  },
  {
   "cell_type": "code",
   "execution_count": 30,
   "id": "3a046561-5c81-476d-a8ad-b24ffc59f73a",
   "metadata": {},
   "outputs": [],
   "source": [
    "data_anova=data[['make','price']]"
   ]
  },
  {
   "cell_type": "code",
   "execution_count": 31,
   "id": "71cab615-769b-42f9-837a-947ad9f0786f",
   "metadata": {},
   "outputs": [
    {
     "data": {
      "text/plain": [
       "array(['alfa-romero', 'audi', 'bmw', 'chevrolet', 'dodge', 'honda',\n",
       "       'isuzu', 'jaguar', 'mazda', 'mercedes-benz', 'mercury',\n",
       "       'mitsubishi', 'nissan', 'peugot', 'plymouth', 'porsche', 'renault',\n",
       "       'saab', 'subaru', 'toyota', 'volkswagen', 'volvo'], dtype=object)"
      ]
     },
     "execution_count": 31,
     "metadata": {},
     "output_type": "execute_result"
    }
   ],
   "source": [
    "data_anova['make'].unique()"
   ]
  },
  {
   "cell_type": "code",
   "execution_count": 32,
   "id": "d021184f-ad1e-4283-9d62-ae99510afd8d",
   "metadata": {},
   "outputs": [],
   "source": [
    "group_anova=data_anova.groupby(['make'])"
   ]
  },
  {
   "cell_type": "code",
   "execution_count": 33,
   "id": "b835c27c-7726-48dd-9201-47145fddaec5",
   "metadata": {},
   "outputs": [],
   "source": [
    "anova_result=sp.stats.f_oneway(\n",
    "    group_anova.get_group(('chevrolet',))['price'],\n",
    "    group_anova.get_group(('audi',))['price'],\n",
    "    group_anova.get_group(('bmw',))['price'])"
   ]
  },
  {
   "cell_type": "code",
   "execution_count": 34,
   "id": "db24b080-70e3-4e24-8c4b-1b258bb60508",
   "metadata": {},
   "outputs": [
    {
     "data": {
      "text/plain": [
       "F_onewayResult(statistic=np.float64(9.655506276585614), pvalue=np.float64(0.0023162285524370736))"
      ]
     },
     "execution_count": 34,
     "metadata": {},
     "output_type": "execute_result"
    }
   ],
   "source": [
    "anova_result"
   ]
  },
  {
   "cell_type": "code",
   "execution_count": 35,
   "id": "493d1ca5-aecf-463d-98f3-d6c3a526fc23",
   "metadata": {},
   "outputs": [
    {
     "data": {
      "image/png": "[encoded data removed]",
      "text/plain": [
       "<Figure size 640x480 with 1 Axes>"
      ]
     },
     "metadata": {},
     "output_type": "display_data"
    }
   ],
   "source": [
    "sns.regplot(x ='engine-size', y ='price', data = data)\n",
    "plt.ylim(0,);"
   ]
  },
  {
   "cell_type": "markdown",
   "id": "722b35a0-14f1-4a4e-b9bb-49aea14fe665",
   "metadata": {},
   "source": [
    "## Conclusions\n",
    "\n",
    "- Engine size shows a strong correlation with price.\n",
    "- Fuel type and drive wheels also influence price distributions.\n",
    "- ANOVA reveals significant price differences between some manufacturers.\n",
    "\n",
    "Further work may include building predictive models using linear regression or decision trees.\n"
   ]
  }
 ],
 "metadata": {
  "kernelspec": {
   "display_name": "Python 3 (ipykernel)",
   "language": "python",
   "name": "python3"
  },
  "language_info": {
   "codemirror_mode": {
    "name": "ipython",
    "version": 3
   },
   "file_extension": ".py",
   "mimetype": "text/x-python",
   "name": "python",
   "nbconvert_exporter": "python",
   "pygments_lexer": "ipython3",
   "version": "3.13.2"
  }
 },
 "nbformat": 4,
 "nbformat_minor": 5
}
